{
 "cells": [
  {
   "cell_type": "markdown",
   "metadata": {},
   "source": [
    "# Kaggle Competition: Digit Recognizer "
   ]
  },
  {
   "cell_type": "markdown",
   "metadata": {},
   "source": [
    "[Digit Recognizer Competition](https://www.kaggle.com/c/digit-recognizer)\n",
    "\n",
    "> MNIST (\"Modified National Institute of Standards and Technology\") is the de facto “hello world” dataset of computer vision. Since its release in 1999, this classic dataset of handwritten images has served as the basis for > benchmarking classification algorithms. As new machine learning techniques emerge, MNIST remains a reliable resource for researchers and learners alike.\n",
    "\n",
    "> In this competition, your goal is to correctly identify digits from a dataset of tens of thousands of handwritten images. We’ve curated a set of tutorial-style kernels which cover everything from regression to neural networks. We encourage you to experiment with different algorithms to learn first-hand what works well and how techniques compare."
   ]
  },
  {
   "cell_type": "markdown",
   "metadata": {},
   "source": [
    "## 1. Dependencies"
   ]
  },
  {
   "cell_type": "code",
   "execution_count": 1,
   "metadata": {},
   "outputs": [
    {
     "name": "stderr",
     "output_type": "stream",
     "text": [
      "/home/glauco/anaconda3/lib/python3.6/site-packages/h5py/__init__.py:36: FutureWarning: Conversion of the second argument of issubdtype from `float` to `np.floating` is deprecated. In future, it will be treated as `np.float64 == np.dtype(float).type`.\n",
      "  from ._conv import register_converters as _register_converters\n",
      "Using TensorFlow backend.\n"
     ]
    }
   ],
   "source": [
    "import pandas as pd\n",
    "import numpy as np\n",
    "np.random.seed(42)\n",
    "\n",
    "import matplotlib.pyplot as plt\n",
    "import matplotlib.image as mpimg\n",
    "%matplotlib inline\n",
    "\n",
    "import seaborn as sb\n",
    "sb.set(style='white', context='notebook', palette='deep')\n",
    "\n",
    "from sklearn.model_selection import train_test_split\n",
    "from sklearn.metrics import confusion_matrix\n",
    "\n",
    "import itertools\n",
    "\n",
    "import keras\n",
    "from keras.models import Sequential\n",
    "from keras.layers import Dense, Dropout, Flatten, Conv2D, MaxPooling2D\n",
    "from keras.optimizers import Adadelta, RMSprop\n",
    "from keras.preprocessing.image import ImageDataGenerator\n",
    "from keras.callbacks import ReduceLROnPlateau"
   ]
  },
  {
   "cell_type": "markdown",
   "metadata": {},
   "source": [
    "## 2. Data Preparation"
   ]
  },
  {
   "cell_type": "markdown",
   "metadata": {},
   "source": [
    "### 2.1. Download Data"
   ]
  },
  {
   "cell_type": "markdown",
   "metadata": {},
   "source": [
    "Download the train and test datasets using Kaggle API:\n",
    "\n",
    "```sh\n",
    "$ kaggle competitions download digit-recognizer \n",
    "```"
   ]
  },
  {
   "cell_type": "markdown",
   "metadata": {},
   "source": [
    "### 2.2. Load Data"
   ]
  },
  {
   "cell_type": "code",
   "execution_count": 2,
   "metadata": {},
   "outputs": [],
   "source": [
    "train_dataframe = pd.read_csv('train.csv', sep=',')\n",
    "test_dataframe = pd.read_csv('test.csv', sep=',')\n",
    "\n",
    "# pandas.Dataframe.values returns a Numpy representation of the DataFrame.\n",
    "train_data = train_dataframe.values\n",
    "test_data = test_dataframe.values"
   ]
  },
  {
   "cell_type": "markdown",
   "metadata": {},
   "source": [
    "### 2.3. Split Train, Validation and Test Sets"
   ]
  },
  {
   "cell_type": "code",
   "execution_count": 3,
   "metadata": {},
   "outputs": [],
   "source": [
    "# Splits train and validation sets\n",
    "X_train, y_train = train_data[:, 1:], train_data[:, 0]\n",
    "X_train, X_val, y_train, y_val = train_test_split(X_train, y_train, test_size=0.2, random_state=42)"
   ]
  },
  {
   "cell_type": "code",
   "execution_count": 4,
   "metadata": {},
   "outputs": [],
   "source": [
    "X_test = test_data"
   ]
  },
  {
   "cell_type": "markdown",
   "metadata": {},
   "source": [
    "### 2.4. Bonus: Free Some Memory"
   ]
  },
  {
   "cell_type": "code",
   "execution_count": 5,
   "metadata": {},
   "outputs": [],
   "source": [
    "del train_dataframe, test_dataframe\n",
    "del train_data, test_data"
   ]
  },
  {
   "cell_type": "markdown",
   "metadata": {},
   "source": [
    "### 2.5. Visualize Categorical Classes Distribution"
   ]
  },
  {
   "cell_type": "markdown",
   "metadata": {},
   "source": [
    "Before creating a model, we need to understand the classes distribution."
   ]
  },
  {
   "cell_type": "code",
   "execution_count": 6,
   "metadata": {},
   "outputs": [
    {
     "data": {
      "text/plain": [
       "<matplotlib.axes._subplots.AxesSubplot at 0x7fa5e3d3d7f0>"
      ]
     },
     "execution_count": 6,
     "metadata": {},
     "output_type": "execute_result"
    },
    {
     "data": {
      "image/png": "[encoded data removed]",
      "text/plain": [
       "<Figure size 432x288 with 1 Axes>"
      ]
     },
     "metadata": {},
     "output_type": "display_data"
    }
   ],
   "source": [
    "sb.countplot(y_train)"
   ]
  },
  {
   "cell_type": "markdown",
   "metadata": {},
   "source": [
    "We see that there is a similar count for the 10 classes (digits between 0 and 9)."
   ]
  },
  {
   "cell_type": "markdown",
   "metadata": {},
   "source": [
    "### 2.6. Normalize Data"
   ]
  },
  {
   "cell_type": "markdown",
   "metadata": {},
   "source": [
    "We will apply zero-mean normalization to help gradient descent convergence."
   ]
  },
  {
   "cell_type": "code",
   "execution_count": 7,
   "metadata": {},
   "outputs": [],
   "source": [
    "# Ensures arrays are float32\n",
    "X_train = X_train.astype('float32')\n",
    "X_val = X_val.astype('float32')\n",
    "X_test = X_test.astype('float32')"
   ]
  },
  {
   "cell_type": "code",
   "execution_count": 8,
   "metadata": {},
   "outputs": [],
   "source": [
    "# Ensures data have zero-mean\n",
    "X_train = X_train / 255\n",
    "X_val = X_val / 255\n",
    "X_test = X_test / 255"
   ]
  },
  {
   "cell_type": "markdown",
   "metadata": {},
   "source": [
    "### 2.7. Reshape Data"
   ]
  },
  {
   "cell_type": "markdown",
   "metadata": {},
   "source": [
    "Train and test images are 28px by 28px. Keras requires an extra dimenion in the end which corresponds to the channel. Since our images are grayscale, we just need to set it to 1."
   ]
  },
  {
   "cell_type": "code",
   "execution_count": 9,
   "metadata": {},
   "outputs": [],
   "source": [
    "img_rows, img_columns = 28, 28\n",
    "input_shape = (img_rows, img_columns, 1)\n",
    "\n",
    "# Reshapes training and validation data to a third-order degree\n",
    "# Since MNIST is composed of grayscale images, just one channel is needed\n",
    "X_train = X_train.reshape(X_train.shape[0], img_rows, img_columns, 1)\n",
    "X_val = X_val.reshape(X_val.shape[0], img_rows, img_columns, 1)\n",
    "X_test = X_test.reshape(X_test.shape[0], img_rows, img_columns, 1)"
   ]
  },
  {
   "cell_type": "code",
   "execution_count": 10,
   "metadata": {},
   "outputs": [
    {
     "name": "stdout",
     "output_type": "stream",
     "text": [
      "(33600, 28, 28, 1)\n",
      "(8400, 28, 28, 1)\n",
      "(28000, 28, 28, 1)\n",
      "(33600,)\n",
      "(8400,)\n"
     ]
    }
   ],
   "source": [
    "# Checks arrays dimensions\n",
    "print(X_train.shape)\n",
    "print(X_val.shape)\n",
    "print(X_test.shape)\n",
    "print(y_train.shape)\n",
    "print(y_val.shape)"
   ]
  },
  {
   "cell_type": "markdown",
   "metadata": {},
   "source": [
    "### 2.8. Encode Labels"
   ]
  },
  {
   "cell_type": "markdown",
   "metadata": {},
   "source": [
    "We convert our labels to one-hot encode to get multiclass classification using Softmax."
   ]
  },
  {
   "cell_type": "code",
   "execution_count": 11,
   "metadata": {},
   "outputs": [],
   "source": [
    "num_classes = 10\n",
    "y_train = keras.utils.to_categorical(y_train, num_classes)\n",
    "y_val = keras.utils.to_categorical(y_val, num_classes)"
   ]
  },
  {
   "cell_type": "markdown",
   "metadata": {},
   "source": [
    "### 2.9. Visualize Data"
   ]
  },
  {
   "cell_type": "code",
   "execution_count": 12,
   "metadata": {},
   "outputs": [
    {
     "data": {
      "text/plain": [
       "<matplotlib.image.AxesImage at 0x7fa5e3005b00>"
      ]
     },
     "execution_count": 12,
     "metadata": {},
     "output_type": "execute_result"
    },
    {
     "data": {
      "image/png": "[encoded data removed]",
      "text/plain": [
       "<Figure size 432x288 with 1 Axes>"
      ]
     },
     "metadata": {},
     "output_type": "display_data"
    }
   ],
   "source": [
    "plt.imshow(X_train[42][:,:,0])"
   ]
  },
  {
   "cell_type": "markdown",
   "metadata": {},
   "source": [
    "## 3. Model Creation"
   ]
  },
  {
   "cell_type": "markdown",
   "metadata": {},
   "source": [
    "### 3.1. Model Hyperparameters"
   ]
  },
  {
   "cell_type": "code",
   "execution_count": 22,
   "metadata": {},
   "outputs": [],
   "source": [
    "batch_size = 32\n",
    "num_classes = 10\n",
    "epochs = 5"
   ]
  },
  {
   "cell_type": "markdown",
   "metadata": {},
   "source": [
    "### 3.2. Model 1: Single Convolution Layer"
   ]
  },
  {
   "cell_type": "code",
   "execution_count": 43,
   "metadata": {},
   "outputs": [
    {
     "name": "stdout",
     "output_type": "stream",
     "text": [
      "Train on 33600 samples, validate on 8400 samples\n",
      "Epoch 1/5\n",
      "33600/33600 [==============================] - 14s 411us/step - loss: 0.6144 - acc: 0.7969 - val_loss: 0.1378 - val_acc: 0.9598\n",
      "Epoch 2/5\n",
      "33600/33600 [==============================] - 14s 405us/step - loss: 0.3178 - acc: 0.8989 - val_loss: 0.0969 - val_acc: 0.9711\n",
      "Epoch 3/5\n",
      "33600/33600 [==============================] - 14s 407us/step - loss: 0.2600 - acc: 0.9196 - val_loss: 0.0792 - val_acc: 0.9773\n",
      "Epoch 4/5\n",
      "33600/33600 [==============================] - 14s 417us/step - loss: 0.2261 - acc: 0.9267 - val_loss: 0.0706 - val_acc: 0.9782\n",
      "Epoch 5/5\n",
      "33600/33600 [==============================] - 15s 441us/step - loss: 0.2092 - acc: 0.9321 - val_loss: 0.0661 - val_acc: 0.9808\n"
     ]
    }
   ],
   "source": [
    "model1 = Sequential()\n",
    "\n",
    "model1.add(Conv2D(32, kernel_size=(5,5), activation='relu', input_shape=input_shape))\n",
    "model1.add(MaxPooling2D(pool_size=(2,2)))\n",
    "\n",
    "model1.add(Flatten())\n",
    "model1.add(Dense(32, activation='relu'))\n",
    "model1.add(Dropout(0.5))\n",
    "model1.add(Dense(num_classes, activation='softmax'))\n",
    "\n",
    "model1.compile(loss=keras.losses.categorical_crossentropy,\n",
    "              optimizer=keras.optimizers.Adadelta(),\n",
    "              metrics=['accuracy'])\n",
    "\n",
    "history = model1.fit(X_train, y_train,\n",
    "                     batch_size=batch_size,\n",
    "                     epochs=epochs,\n",
    "                     validation_data=(X_val, y_val),\n",
    "                     verbose=1)"
   ]
  },
  {
   "cell_type": "code",
   "execution_count": 47,
   "metadata": {},
   "outputs": [
    {
     "data": {
      "image/png": "[encoded data removed]",
      "text/plain": [
       "<Figure size 432x288 with 2 Axes>"
      ]
     },
     "metadata": {},
     "output_type": "display_data"
    }
   ],
   "source": [
    "fig, ax = plt.subplots(2, 1)\n",
    "ax[0].plot(history.history['loss'], color='b', label='Training Loss')\n",
    "ax[0].plot(history.history['val_loss'], color='r', label='Validation Loss', axes=ax[0])\n",
    "legend = ax[0].legend(loc='best', shadow=True)\n",
    "\n",
    "ax[1].plot(history.history['acc'], color='b', label='Training Accuracy')\n",
    "ax[1].plot(history.history['val_acc'], color='r', label='Validation Accuracy')\n",
    "legend = ax[1].legend(loc='best', shadow=True)"
   ]
  },
  {
   "cell_type": "markdown",
   "metadata": {},
   "source": [
    "### 3.3. Model 2: Two Convolution Layers"
   ]
  },
  {
   "cell_type": "code",
   "execution_count": 48,
   "metadata": {},
   "outputs": [
    {
     "name": "stdout",
     "output_type": "stream",
     "text": [
      "Train on 33600 samples, validate on 8400 samples\n",
      "Epoch 1/5\n",
      "33600/33600 [==============================] - 32s 957us/step - loss: 0.4685 - acc: 0.8441 - val_loss: 0.0921 - val_acc: 0.9736\n",
      "Epoch 2/5\n",
      "33600/33600 [==============================] - 34s 1ms/step - loss: 0.2183 - acc: 0.9274 - val_loss: 0.0632 - val_acc: 0.9801\n",
      "Epoch 3/5\n",
      "33600/33600 [==============================] - 33s 991us/step - loss: 0.1692 - acc: 0.9422 - val_loss: 0.0592 - val_acc: 0.9812\n",
      "Epoch 4/5\n",
      "33600/33600 [==============================] - 34s 1ms/step - loss: 0.1465 - acc: 0.9493 - val_loss: 0.0484 - val_acc: 0.9864\n",
      "Epoch 5/5\n",
      "33600/33600 [==============================] - 34s 1ms/step - loss: 0.1335 - acc: 0.9534 - val_loss: 0.0435 - val_acc: 0.9877\n"
     ]
    }
   ],
   "source": [
    "model2 = Sequential()\n",
    "\n",
    "model2.add(Conv2D(32, kernel_size=(5,5), activation='relu', input_shape=input_shape))\n",
    "model2.add(MaxPooling2D(pool_size=(2,2)))\n",
    "\n",
    "model2.add(Conv2D(64, kernel_size=(5,5), activation='relu'))\n",
    "model2.add(MaxPooling2D(pool_size=(2,2)))\n",
    "\n",
    "model2.add(Flatten())\n",
    "model2.add(Dense(32, activation='relu'))\n",
    "model2.add(Dropout(0.5))\n",
    "model2.add(Dense(num_classes, activation='softmax'))\n",
    "\n",
    "model2.compile(loss=keras.losses.categorical_crossentropy,\n",
    "              optimizer=keras.optimizers.Adadelta(),\n",
    "              metrics=['accuracy'])\n",
    "\n",
    "history = model2.fit(X_train, y_train,\n",
    "                     batch_size=batch_size,\n",
    "                     epochs=epochs,\n",
    "                     validation_data=(X_val, y_val),\n",
    "                     verbose=1)"
   ]
  },
  {
   "cell_type": "code",
   "execution_count": 50,
   "metadata": {},
   "outputs": [
    {
     "data": {
      "image/png": "[encoded data removed]",
      "text/plain": [
       "<Figure size 432x288 with 2 Axes>"
      ]
     },
     "metadata": {},
     "output_type": "display_data"
    }
   ],
   "source": [
    "fig, ax = plt.subplots(2, 1)\n",
    "ax[0].plot(history.history['loss'], color='b', label='Training Loss')\n",
    "ax[0].plot(history.history['val_loss'], color='r', label='Validation Loss', axes=ax[0])\n",
    "legend = ax[0].legend(loc='best', shadow=True)\n",
    "\n",
    "ax[1].plot(history.history['acc'], color='b', label='Training Accuracy')\n",
    "ax[1].plot(history.history['val_acc'], color='r', label='Validation Accuracy')\n",
    "legend = ax[1].legend(loc='best', shadow=True)"
   ]
  },
  {
   "cell_type": "markdown",
   "metadata": {},
   "source": [
    "### 3.4. Model 3: Four Convolution Layers"
   ]
  },
  {
   "cell_type": "code",
   "execution_count": 51,
   "metadata": {},
   "outputs": [
    {
     "name": "stdout",
     "output_type": "stream",
     "text": [
      "Train on 33600 samples, validate on 8400 samples\n",
      "Epoch 1/5\n",
      "33600/33600 [==============================] - 98s 3ms/step - loss: 0.4296 - acc: 0.8607 - val_loss: 0.0697 - val_acc: 0.9800\n",
      "Epoch 2/5\n",
      "33600/33600 [==============================] - 99s 3ms/step - loss: 0.1683 - acc: 0.9502 - val_loss: 0.0505 - val_acc: 0.9861\n",
      "Epoch 3/5\n",
      "33600/33600 [==============================] - 99s 3ms/step - loss: 0.1333 - acc: 0.9610 - val_loss: 0.0467 - val_acc: 0.9871\n",
      "Epoch 4/5\n",
      "33600/33600 [==============================] - 101s 3ms/step - loss: 0.1047 - acc: 0.9671 - val_loss: 0.0541 - val_acc: 0.9875\n",
      "Epoch 5/5\n",
      "33600/33600 [==============================] - 99s 3ms/step - loss: 0.0978 - acc: 0.9707 - val_loss: 0.0453 - val_acc: 0.9887\n"
     ]
    }
   ],
   "source": [
    "model3 = Sequential()\n",
    "\n",
    "model3.add(Conv2D(32, kernel_size=(5,5), activation='relu', input_shape=input_shape))\n",
    "model3.add(Conv2D(32, kernel_size=(5,5), activation='relu'))\n",
    "model3.add(MaxPooling2D(pool_size=(2,2)))\n",
    "\n",
    "model3.add(Conv2D(64, kernel_size=(5,5), activation='relu'))\n",
    "model3.add(Conv2D(64, kernel_size=(5,5), activation='relu'))\n",
    "model3.add(MaxPooling2D(pool_size=(2,2)))\n",
    "\n",
    "model3.add(Flatten())\n",
    "model3.add(Dense(32, activation='relu'))\n",
    "model3.add(Dropout(0.5))\n",
    "model3.add(Dense(num_classes, activation='softmax'))\n",
    "\n",
    "model3.compile(loss=keras.losses.categorical_crossentropy,\n",
    "              optimizer=keras.optimizers.Adadelta(),\n",
    "              metrics=['accuracy'])\n",
    "\n",
    "history = model3.fit(X_train, y_train,\n",
    "                     batch_size=batch_size,\n",
    "                     epochs=epochs,\n",
    "                     validation_data=(X_val, y_val),\n",
    "                     verbose=1)"
   ]
  },
  {
   "cell_type": "code",
   "execution_count": 53,
   "metadata": {},
   "outputs": [
    {
     "data": {
      "image/png": "[encoded data removed]",
      "text/plain": [
       "<Figure size 432x288 with 2 Axes>"
      ]
     },
     "metadata": {},
     "output_type": "display_data"
    }
   ],
   "source": [
    "fig, ax = plt.subplots(2, 1)\n",
    "ax[0].plot(history.history['loss'], color='b', label='Training Loss')\n",
    "ax[0].plot(history.history['val_loss'], color='r', label='Validation Loss', axes=ax[0])\n",
    "legend = ax[0].legend(loc='best', shadow=True)\n",
    "\n",
    "ax[1].plot(history.history['acc'], color='b', label='Training Accuracy')\n",
    "ax[1].plot(history.history['val_acc'], color='r', label='Validation Accuracy')\n",
    "legend = ax[1].legend(loc='best', shadow=True)"
   ]
  },
  {
   "cell_type": "markdown",
   "metadata": {},
   "source": [
    "### 3.5. Model 4: Adds Multiple Fully Connected Layers"
   ]
  },
  {
   "cell_type": "code",
   "execution_count": 65,
   "metadata": {
    "scrolled": true
   },
   "outputs": [
    {
     "name": "stdout",
     "output_type": "stream",
     "text": [
      "Epoch 1/30\n",
      "1050/1050 [==============================] - 66s 63ms/step - loss: 0.3257 - acc: 0.8935 - val_loss: 0.0556 - val_acc: 0.9819\n",
      "Epoch 2/30\n",
      "1050/1050 [==============================] - 67s 64ms/step - loss: 0.0926 - acc: 0.9724 - val_loss: 0.0304 - val_acc: 0.9895\n",
      "Epoch 3/30\n",
      "1050/1050 [==============================] - 68s 64ms/step - loss: 0.0706 - acc: 0.9794 - val_loss: 0.0292 - val_acc: 0.9900\n",
      "Epoch 4/30\n",
      "1050/1050 [==============================] - 67s 64ms/step - loss: 0.0608 - acc: 0.9822 - val_loss: 0.0326 - val_acc: 0.9911\n",
      "Epoch 5/30\n",
      "1050/1050 [==============================] - 68s 65ms/step - loss: 0.0552 - acc: 0.9839 - val_loss: 0.0337 - val_acc: 0.9900\n",
      "Epoch 6/30\n",
      "1050/1050 [==============================] - 68s 64ms/step - loss: 0.0483 - acc: 0.9858 - val_loss: 0.0260 - val_acc: 0.9918\n",
      "Epoch 7/30\n",
      "1050/1050 [==============================] - 67s 64ms/step - loss: 0.0479 - acc: 0.9859 - val_loss: 0.0258 - val_acc: 0.9919\n",
      "Epoch 8/30\n",
      "1050/1050 [==============================] - 68s 64ms/step - loss: 0.0440 - acc: 0.9874 - val_loss: 0.0262 - val_acc: 0.9923\n",
      "Epoch 9/30\n",
      "1050/1050 [==============================] - 68s 65ms/step - loss: 0.0428 - acc: 0.9877 - val_loss: 0.0266 - val_acc: 0.9936\n",
      "Epoch 10/30\n",
      "1050/1050 [==============================] - 68s 65ms/step - loss: 0.0414 - acc: 0.9884 - val_loss: 0.0213 - val_acc: 0.9938\n",
      "Epoch 11/30\n",
      "1050/1050 [==============================] - 69s 66ms/step - loss: 0.0378 - acc: 0.9891 - val_loss: 0.0234 - val_acc: 0.9930\n",
      "Epoch 12/30\n",
      "1050/1050 [==============================] - 68s 65ms/step - loss: 0.0382 - acc: 0.9893 - val_loss: 0.0198 - val_acc: 0.9951\n",
      "Epoch 13/30\n",
      "1050/1050 [==============================] - 68s 64ms/step - loss: 0.0369 - acc: 0.9895 - val_loss: 0.0211 - val_acc: 0.9935\n",
      "Epoch 14/30\n",
      "1050/1050 [==============================] - 68s 65ms/step - loss: 0.0330 - acc: 0.9905 - val_loss: 0.0210 - val_acc: 0.9940\n",
      "Epoch 15/30\n",
      "1050/1050 [==============================] - 69s 65ms/step - loss: 0.0346 - acc: 0.9907 - val_loss: 0.0190 - val_acc: 0.9949\n",
      "Epoch 16/30\n",
      "1050/1050 [==============================] - 68s 65ms/step - loss: 0.0311 - acc: 0.9917 - val_loss: 0.0200 - val_acc: 0.9937\n",
      "Epoch 17/30\n",
      "1050/1050 [==============================] - 68s 65ms/step - loss: 0.0310 - acc: 0.9917 - val_loss: 0.0225 - val_acc: 0.9940\n",
      "Epoch 18/30\n",
      "1050/1050 [==============================] - 72s 68ms/step - loss: 0.0289 - acc: 0.9917 - val_loss: 0.0200 - val_acc: 0.9949\n",
      "Epoch 19/30\n",
      "1050/1050 [==============================] - 71s 68ms/step - loss: 0.0299 - acc: 0.9924 - val_loss: 0.0343 - val_acc: 0.9919\n",
      "Epoch 20/30\n",
      "1050/1050 [==============================] - 78s 74ms/step - loss: 0.0287 - acc: 0.9923 - val_loss: 0.0251 - val_acc: 0.9935\n",
      "Epoch 21/30\n",
      "1050/1050 [==============================] - 66s 63ms/step - loss: 0.0285 - acc: 0.9920 - val_loss: 0.0249 - val_acc: 0.9935\n",
      "Epoch 22/30\n",
      "1050/1050 [==============================] - 68s 65ms/step - loss: 0.0260 - acc: 0.9929 - val_loss: 0.0270 - val_acc: 0.9925\n",
      "Epoch 23/30\n",
      "1050/1050 [==============================] - 68s 65ms/step - loss: 0.0279 - acc: 0.9922 - val_loss: 0.0279 - val_acc: 0.9935\n",
      "Epoch 24/30\n",
      "1050/1050 [==============================] - 68s 65ms/step - loss: 0.0244 - acc: 0.9927 - val_loss: 0.0288 - val_acc: 0.9940\n",
      "Epoch 25/30\n",
      "1050/1050 [==============================] - 68s 65ms/step - loss: 0.0287 - acc: 0.9923 - val_loss: 0.0279 - val_acc: 0.9932\n",
      "Epoch 26/30\n",
      "1050/1050 [==============================] - 68s 65ms/step - loss: 0.0257 - acc: 0.9930 - val_loss: 0.0249 - val_acc: 0.9930\n",
      "Epoch 27/30\n",
      "1050/1050 [==============================] - 71s 68ms/step - loss: 0.0248 - acc: 0.9932 - val_loss: 0.0305 - val_acc: 0.9933\n",
      "Epoch 28/30\n",
      "1050/1050 [==============================] - 69s 66ms/step - loss: 0.0237 - acc: 0.9937 - val_loss: 0.0288 - val_acc: 0.9932\n",
      "Epoch 29/30\n",
      "1050/1050 [==============================] - 68s 65ms/step - loss: 0.0271 - acc: 0.9926 - val_loss: 0.0248 - val_acc: 0.9932\n",
      "Epoch 30/30\n",
      "1050/1050 [==============================] - 68s 65ms/step - loss: 0.0237 - acc: 0.9936 - val_loss: 0.0307 - val_acc: 0.9930\n"
     ]
    }
   ],
   "source": [
    "model4 = Sequential()\n",
    "\n",
    "model4.add(Conv2D(32, kernel_size=(5,5), activation='relu', input_shape=input_shape))\n",
    "model4.add(MaxPooling2D(pool_size=(2,2)))\n",
    "\n",
    "model4.add(Conv2D(64, kernel_size=(5,5), activation='relu'))\n",
    "model4.add(MaxPooling2D(pool_size=(2,2)))\n",
    "\n",
    "model4.add(Flatten())\n",
    "\n",
    "model4.add(Dense(1024, activation='relu'))\n",
    "model4.add(Dropout(rate=0.25))\n",
    "\n",
    "model4.add(Dense(1024, activation='relu'))\n",
    "model4.add(Dropout(rate=0.5))\n",
    "\n",
    "model4.add(Dense(num_classes, activation='softmax'))\n",
    "\n",
    "model4.compile(loss=keras.losses.categorical_crossentropy,\n",
    "              optimizer=keras.optimizers.Adadelta(),\n",
    "              metrics=['accuracy'])\n",
    "\n",
    "datagen = ImageDataGenerator(featurewise_center=False,\n",
    "                             samplewise_center=False,\n",
    "                             featurewise_std_normalization=False,\n",
    "                             samplewise_std_normalization=False,\n",
    "                             zca_whitening=False,\n",
    "                             rotation_range=10,\n",
    "                             zoom_range=0.1,\n",
    "                             width_shift_range=0.1,\n",
    "                             height_shift_range=0.1,\n",
    "                             horizontal_flip=False,\n",
    "                             vertical_flip=False)\n",
    "\n",
    "datagen.fit(X_train)\n",
    "\n",
    "history = model4.fit_generator(datagen.flow(X_train, y_train, batch_size=batch_size),\n",
    "                               epochs=30,\n",
    "                               steps_per_epoch=X_train.shape[0] // batch_size,\n",
    "                               validation_data=(X_val, y_val),\n",
    "                               verbose=1)"
   ]
  },
  {
   "cell_type": "code",
   "execution_count": 66,
   "metadata": {},
   "outputs": [
    {
     "data": {
      "image/png": "[encoded data removed]",
      "text/plain": [
       "<Figure size 432x288 with 2 Axes>"
      ]
     },
     "metadata": {},
     "output_type": "display_data"
    }
   ],
   "source": [
    "fig, ax = plt.subplots(2, 1)\n",
    "ax[0].plot(history.history['loss'], color='b', label='Training Loss')\n",
    "ax[0].plot(history.history['val_loss'], color='r', label='Validation Loss', axes=ax[0])\n",
    "legend = ax[0].legend(loc='best', shadow=True)\n",
    "\n",
    "ax[1].plot(history.history['acc'], color='b', label='Training Accuracy')\n",
    "ax[1].plot(history.history['val_acc'], color='r', label='Validation Accuracy')\n",
    "legend = ax[1].legend(loc='best', shadow=True)"
   ]
  },
  {
   "cell_type": "markdown",
   "metadata": {},
   "source": [
    "## 4. Evaluate model drawbacks"
   ]
  },
  {
   "cell_type": "code",
   "execution_count": 73,
   "metadata": {},
   "outputs": [],
   "source": [
    "def plot_confusion_matrix(cm, classes):\n",
    "    plt.imshow(cm, interpolation='nearest', cmap=plt.cm.Blues)\n",
    "    plt.title('Confusion Matrix')\n",
    "    plt.colorbar()\n",
    "    tick_marks = np.arange(len(classes))\n",
    "    plt.xticks(tick_marks, classes, rotation=45)\n",
    "    plt.yticks(tick_marks, classes)\n",
    "    \n",
    "    threshold = cm.max() / 2\n",
    "    \n",
    "    for i, j in itertools.product(range(cm.shape[0]), range(cm.shape[1])):\n",
    "        plt.text(j, i, cm[i, j],\n",
    "                 horizontalalignment='center',\n",
    "                 color='white' if cm[i, j] > threshold else 'black')\n",
    "        \n",
    "    plt.tight_layout()\n",
    "    plt.ylabel('True Label')\n",
    "    plt.xlabel('Predicted Label')"
   ]
  },
  {
   "cell_type": "code",
   "execution_count": 74,
   "metadata": {},
   "outputs": [
    {
     "data": {
      "image/png": "[encoded data removed]",
      "text/plain": [
       "<Figure size 432x288 with 2 Axes>"
      ]
     },
     "metadata": {},
     "output_type": "display_data"
    }
   ],
   "source": [
    "predictions = model4.predict(X_val)\n",
    "predicted_classes = np.argmax(predictions, axis=1)\n",
    "true_classes = np.argmax(y_val, axis=1)\n",
    "\n",
    "conf_matrix = confusion_matrix(true_classes, predicted_classes)\n",
    "\n",
    "plot_confusion_matrix(conf_matrix, classes=range(10))"
   ]
  },
  {
   "cell_type": "markdown",
   "metadata": {},
   "source": [
    "## 5. Evaluates model on test set"
   ]
  },
  {
   "cell_type": "code",
   "execution_count": 68,
   "metadata": {},
   "outputs": [],
   "source": [
    "predictions = model4.predict(X_test)"
   ]
  },
  {
   "cell_type": "code",
   "execution_count": 69,
   "metadata": {},
   "outputs": [],
   "source": [
    "labels = [np.argmax(predictions[i]) for i in range(predictions.shape[0])]\n",
    "image_ids = range(1, len(labels) + 1)"
   ]
  },
  {
   "cell_type": "markdown",
   "metadata": {},
   "source": [
    "## 6. Saves submission"
   ]
  },
  {
   "cell_type": "code",
   "execution_count": 70,
   "metadata": {},
   "outputs": [],
   "source": [
    "df = pd.DataFrame({'ImageId': image_ids, 'Label': labels})"
   ]
  },
  {
   "cell_type": "code",
   "execution_count": 71,
   "metadata": {},
   "outputs": [],
   "source": [
    "df.to_csv('submission.csv', encoding='utf-8', index=False)"
   ]
  },
  {
   "cell_type": "markdown",
   "metadata": {},
   "source": [
    "Submit the results using Kaggle API:\n",
    "\n",
    "```\n",
    "$ kaggle competitions submit -f submission.csv -m 'Recognizing digits with Keras and Tensorflow' digit-recognizer\n",
    "```"
   ]
  },
  {
   "cell_type": "markdown",
   "metadata": {},
   "source": []
  }
 ],
 "metadata": {
  "kernelspec": {
   "display_name": "Python 3",
   "language": "python",
   "name": "python3"
  },
  "language_info": {
   "codemirror_mode": {
    "name": "ipython",
    "version": 3
   },
   "file_extension": ".py",
   "mimetype": "text/x-python",
   "name": "python",
   "nbconvert_exporter": "python",
   "pygments_lexer": "ipython3",
   "version": "3.6.5"
  }
 },
 "nbformat": 4,
 "nbformat_minor": 2
}
